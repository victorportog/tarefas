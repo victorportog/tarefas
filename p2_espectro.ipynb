{
 "cells": [
  {
   "cell_type": "markdown",
   "id": "70e00519-169e-4e38-aa55-7290337825d9",
   "metadata": {},
   "source": [
    "## Espectroscopia P2 \n",
    "### Questão 1"
   ]
  },
  {
   "cell_type": "code",
   "execution_count": null,
   "id": "d591d1e2-99f5-49a4-83e2-c9bdc9a2716b",
   "metadata": {},
   "outputs": [],
   "source": [
    "import numpy as np\n",
    "import matplotlib.pyplot as plt\n",
    "import pandas as pd"
   ]
  },
  {
   "cell_type": "markdown",
   "id": "2e3103d9-ef11-46a0-bc0c-c03a733b6c47",
   "metadata": {
    "tags": []
   },
   "source": [
    "algumas constantes físicas necessárias"
   ]
  },
  {
   "cell_type": "code",
   "execution_count": null,
   "id": "beb962a8-9c3a-4a62-a3c9-f30a22790e53",
   "metadata": {},
   "outputs": [],
   "source": [
    "kB = 1.38E-23 #constante de Boltzmann [J.K-1]\n",
    "c = 2.9979E10 #velocidade da luz [cm/s]\n",
    "h = 6.626E-34 #constante de Planck [J.s]"
   ]
  },
  {
   "cell_type": "markdown",
   "id": "b65e8455-cab8-4e04-9d92-308dffc49da6",
   "metadata": {},
   "source": [
    "algumas funções\n",
    "\n",
    "\\begin{equation}\n",
    "E = WN.c.h\n",
    "\\end{equation}\n",
    "\n",
    "\\begin{equation}\n",
    "I(l,t) = (2l+1)exp[-hcBl(l+1)/k_B T]\n",
    "\\end{equation}\n",
    "\n",
    "R-branch ($l=0,1,2,...$) [com a correção do efeito centrifugal]:\n",
    "\\begin{equation}\n",
    "WN _R(l) = WN _0+2B(l+1) - 4D(l+1)^3\n",
    "\\end{equation}\n",
    "\n",
    "P-branch ($l=1,2,...$):\n",
    "\\begin{equation}\n",
    "WN _P(l) = WN _0-2Bl\n",
    "\\end{equation}"
   ]
  },
  {
   "cell_type": "code",
   "execution_count": null,
   "id": "755daf20-6a1f-4d86-838a-75f1aa96d56d",
   "metadata": {},
   "outputs": [],
   "source": [
    "'''\n",
    "E(WN)\n",
    "\n",
    "parâmetros\n",
    "WN: número de onda [cm-1]\n",
    "\n",
    "retorna\n",
    "E: energia respectiva ao número de onda [j]\n",
    "'''\n",
    "def E(WN):\n",
    "    return WN*c*h\n",
    "\n",
    "\n",
    "'''\n",
    "I(l,T)\n",
    "\n",
    "parâmetros\n",
    "l: número quântico orbital (número natural)\n",
    "T: temperatura [K]\n",
    "\n",
    "retorna\n",
    "I: intesidade associada ao l p/ a temperatura T\n",
    "'''\n",
    "def I(l,T): #intensidade p/ cada l\n",
    "    return (2*l+1)*np.exp(-h*c*B*l*(l+1)/kB/T)\n",
    "\n",
    "'''\n",
    "WN_R(l,NW0)\n",
    "\n",
    "parâmetros\n",
    "l: número quântico orbital (número natural)\n",
    "WN0: número de onda da linha central [cm-1]\n",
    "\n",
    "retorna\n",
    "WN_R: número de onda (no branch-R) respectivo ao l\n",
    "'''\n",
    "def WN_R(l, WN0):\n",
    "    return WN0 + 2*B*(l+1) - 4*D*(l+1)**3\n",
    "\n",
    "'''\n",
    "WN_P(l,NW0)\n",
    "\n",
    "parâmetros\n",
    "l: número quântico orbital (número natural)\n",
    "WN0: número de onda da linha central [cm-1]\n",
    "\n",
    "retorna\n",
    "WN_P: número de onda (no branch-P) respectivo ao l\n",
    "'''\n",
    "def WN_P(l, WN0):\n",
    "    return WN0 - 2*B*l #+ 4*D*l**3"
   ]
  },
  {
   "cell_type": "code",
   "execution_count": null,
   "id": "6cba126d-ff18-4720-b497-2758d85b4328",
   "metadata": {},
   "outputs": [],
   "source": [
    "'''\n",
    "vibrational_rotational(n_linhas_R, n_linhas_P, T)\n",
    "\n",
    "parametros\n",
    "n_linhas_R: número de linhas desejadas do R-branch\n",
    "n_linhas_P: número de linhas desejadas do P-branch\n",
    "T: temperatura [K]\n",
    "\n",
    "retorna\n",
    "WN_R_branch: números de onda das linhas do R-branch [cm-1]\n",
    "I_R_branch: intensidades das linhas do R-branch\n",
    "WN_P_branch: números de onda das linhas do P-branch [cm-1]\n",
    "I_P_branch: intensidades das linhas do P-branch\n",
    "'''\n",
    "def vibrational_rotational(n_linhas_R, n_linhas_P, T):\n",
    "    \n",
    "    #R-branch\n",
    "    WN_R_branch = np.zeros(n_linhas_R)\n",
    "    I_R_branch = np.zeros(n_linhas_R)\n",
    "    for i in range(n_linhas_R):\n",
    "        WN_R_branch[i] = WN_R(i,WN0)   \n",
    "        I_R_branch[i] = I(i+1,T)\n",
    "    \n",
    "    #P-branch\n",
    "    WN_P_branch = np.zeros(n_linhas_P)\n",
    "    I_P_branch = np.zeros(n_linhas_P)\n",
    "    for i in range(n_linhas_P):\n",
    "        WN_P_branch[i] = WN_P(i+1,WN0) \n",
    "        I_P_branch[i] = I(i+1,T)\n",
    "    \n",
    "    return WN_R_branch, I_R_branch, WN_P_branch, I_P_branch\n",
    "\n",
    "'''\n",
    "plot(WN_R_branch, I_R_branch, WN_P_branch, I_P_branch)\n",
    "\n",
    "parametros\n",
    "WN_R_branch: números de onda das linhas do R-branch\n",
    "I_R_branch: intensidades das linhas do R-branch\n",
    "WN_P_branch: números de onda das linhas do P-branch\n",
    "I_P_branch: intensidades das linhas do P-branch\n",
    "\n",
    "retorna\n",
    "plot do espectro vibracional-rotacional\n",
    "'''\n",
    "def plot(WN_R_branch, I_R_branch, WN_P_branch, I_P_branch):\n",
    "    \n",
    "    #plotting R-branch\n",
    "    for i in range(len(WN_R_branch)):\n",
    "        plt.vlines(WN_R_branch[i], 0, I_R_branch[i],color='b')\n",
    "    \n",
    "    #plotting P-branch\n",
    "    for i in range(len(WN_P_branch)):       \n",
    "        plt.vlines(WN_P_branch[i], 0, I_P_branch[i],color='g')\n",
    "    \n",
    "    #plotting WN0 position\n",
    "    plt.vlines(WN0, 0, np.max(I_R_branch)*1.3,linestyle='--', color='k')\n",
    "    \n",
    "    plt.title('espectro vibracional-rotacional ('+str(molecule)+', T='+str(T)+'K)')\n",
    "    plt.ylabel('intensidade')\n",
    "    plt.xlabel('número de onda [cm-1]')\n",
    "    plt.ylim(0,np.max(I_P_branch)*1.3)\n",
    "    plt.xlim(WN_P_branch[-1]-B,WN_R_branch[-1]+B)\n",
    "    plt.grid()\n",
    "    \n",
    "    return"
   ]
  },
  {
   "cell_type": "markdown",
   "id": "edfdcbb9-b93f-427e-b00b-72c7f4118b48",
   "metadata": {},
   "source": [
    "a) molécula HBr, T=100K"
   ]
  },
  {
   "cell_type": "code",
   "execution_count": null,
   "id": "478c0c9c-5e91-49ea-851d-75248a77a62d",
   "metadata": {},
   "outputs": [],
   "source": [
    "molecule = 'HBr'\n",
    "B = 8.4 #constante rotacional [cm-1]\n",
    "D = 0.000362 #[cm-1]\n",
    "WN0 = 2558.4 #número de onda da linha central [cm-1] (não visível p/ moléculas lineares)\n",
    "\n",
    "T=100 #temperatura [K]\n",
    "plot(*vibrational_rotational(15, 15, T))\n",
    "pd.DataFrame(np.array(vibrational_rotational(15, 15, T)).T, columns=['nº de onda (R-branch) [cm$^{-1}$]',\n",
    "                                                                     'Intensidade (R-branch)',\n",
    "                                                                     'nº de onda (P-branch) [cm$^{-1}$]',\n",
    "                                                                     'Intensidade (P-branch)'])"
   ]
  },
  {
   "cell_type": "markdown",
   "id": "4d7ecbf9-d88f-4aef-a2a4-a39365f468ac",
   "metadata": {},
   "source": [
    "b) molécula HBr, T=1000K"
   ]
  },
  {
   "cell_type": "code",
   "execution_count": null,
   "id": "fcbe3703-b5f0-4d68-9780-1f4c9abed622",
   "metadata": {},
   "outputs": [],
   "source": [
    "molecule = 'HBr'\n",
    "B = 8.4 #constante rotacional [cm-1]\n",
    "D = 0.000362 #[cm-1]\n",
    "WN0 = 2558.4 #número de onda da linha central [cm-1] (não visível p/ moléculas lineares)\n",
    "\n",
    "T=1000 #temperatura [K]\n",
    "plot(*vibrational_rotational(25, 25, T))\n",
    "pd.DataFrame(np.array(vibrational_rotational(25, 25, T)).T, columns=['nº de onda (R-branch) [cm$^{-1}$]',\n",
    "                                                                     'Intensidade (R-branch)',\n",
    "                                                                     'nº de onda (P-branch) [cm$^{-1}$]',\n",
    "                                                                     'Intensidade (P-branch)'])"
   ]
  },
  {
   "cell_type": "markdown",
   "id": "274f4a00-1f8f-41c7-8433-be8cd9649efd",
   "metadata": {},
   "source": [
    "distância entre cada par de linhas p/ R-branch [cm-1]\n",
    "\n",
    "(note que a distância vai diminuindo)"
   ]
  },
  {
   "cell_type": "code",
   "execution_count": null,
   "id": "a6c4660e-b000-4f3e-b606-d20ca56d4a3f",
   "metadata": {},
   "outputs": [],
   "source": [
    "vibrational_rotational(25, 25, T)[0][1:] - vibrational_rotational(25, 25, T)[0][:-1]"
   ]
  },
  {
   "cell_type": "markdown",
   "id": "bf2eb40d-b52e-4d81-96dd-3dd5c3c1a44b",
   "metadata": {},
   "source": [
    "### Questão 2"
   ]
  },
  {
   "cell_type": "markdown",
   "id": "5779b75e-c025-41e9-805d-6adb0b4aa972",
   "metadata": {},
   "source": [
    "#### Vibracional-Rotacional"
   ]
  },
  {
   "cell_type": "markdown",
   "id": "569b7553-553d-4fcc-aea7-901b34d4a972",
   "metadata": {},
   "source": [
    "a) molécula H2"
   ]
  },
  {
   "cell_type": "code",
   "execution_count": null,
   "id": "bbd56d56-3575-4368-a950-42de5dff17aa",
   "metadata": {},
   "outputs": [],
   "source": [
    "molecule='H2'\n",
    "B = 60.04 #constante rotacional [cm-1]\n",
    "D = 0.05038 #[cm-1]\n",
    "WN0 = 4145.2 #número de onda da linha central [cm-1] (não visível p/ moléculas lineares)\n",
    "\n",
    "T=300 #temperatura [K]\n",
    "plot(*vibrational_rotational(8, 8, T))\n",
    "pd.DataFrame(np.array(vibrational_rotational(8, 8, T)).T, columns=['nº de onda (R-branch) [cm$^{-1}$]',\n",
    "                                                                     'Intensidade (R-branch)',\n",
    "                                                                     'nº de onda (P-branch) [cm$^{-1}$]',\n",
    "                                                                     'Intensidade (P-branch)'])"
   ]
  },
  {
   "cell_type": "markdown",
   "id": "0a2d23ff-3886-4541-8b6b-f2ad723e7feb",
   "metadata": {},
   "source": [
    "b) molécula HD (hidrogênio-deutério)"
   ]
  },
  {
   "cell_type": "code",
   "execution_count": null,
   "id": "3261e973-b2f7-4675-a65c-e15a7bcabdb7",
   "metadata": {},
   "outputs": [],
   "source": [
    "molecule='HD'\n",
    "B = 45.69 #constante rotacional [cm-1]\n",
    "D = 0.03097 #[cm-1]\n",
    "WN0 = 3590.5 #número de onda da linha central [cm-1] (não visível p/ moléculas lineares)\n",
    "\n",
    "T=300 #temperatura [K]\n",
    "plot(*vibrational_rotational(8, 8, T))\n",
    "pd.DataFrame(np.array(vibrational_rotational(8, 8, T)).T, columns=['nº de onda (R-branch) [cm$^{-1}$]',\n",
    "                                                                     'Intensidade (R-branch)',\n",
    "                                                                     'nº de onda (P-branch) [cm$^{-1}$]',\n",
    "                                                                     'Intensidade (P-branch)'])"
   ]
  },
  {
   "cell_type": "markdown",
   "id": "dbf008eb-cd85-45b3-90a8-4b248304299a",
   "metadata": {},
   "source": [
    "#### Raman Rotacional"
   ]
  },
  {
   "cell_type": "markdown",
   "id": "9da9a5a6-e966-4970-a11e-504256ef9266",
   "metadata": {},
   "source": [
    "S-branch ($l=0,1,2,...$):\n",
    "\\begin{equation}\n",
    "WN_S(l) = WN_0 + 6B + 4Bl\n",
    "\\end{equation}\n",
    "\n",
    "O-branch ($l=2,3,4,...$):\n",
    "\\begin{equation}\n",
    "WN_O(l) = WN_0 + 2B - 4Bl\n",
    "\\end{equation}"
   ]
  },
  {
   "cell_type": "code",
   "execution_count": null,
   "id": "08834201-d701-4b44-8ad7-955cca1abd0b",
   "metadata": {},
   "outputs": [],
   "source": [
    "'''\n",
    "WN_S(l,NW0)\n",
    "\n",
    "parâmetros\n",
    "l: número quântico orbital (número natural)\n",
    "WN0: número de onda da linha central [cm-1]\n",
    "\n",
    "retorna\n",
    "WN_S: número de onda (no branch-S) respectivo ao l\n",
    "'''\n",
    "def WN_S(l, WN0):\n",
    "    return WN0 + 6*B + 4*B*l\n",
    "\n",
    "'''\n",
    "WN_O(l,NW0)\n",
    "\n",
    "parâmetros\n",
    "l: número quântico orbital (número natural)\n",
    "WN0: número de onda da linha central [cm-1]\n",
    "\n",
    "retorna\n",
    "WN_O: número de onda (no branch-O) respectivo ao l\n",
    "'''\n",
    "def WN_O(l, WN0):\n",
    "    return WN0 + 2*B - 4*B*l\n",
    "\n",
    "'''\n",
    "WN_Q(l,NW0)\n",
    "\n",
    "parâmetros\n",
    "l: número quântico orbital (número natural)\n",
    "WN0: número de onda da linha central [cm-1]\n",
    "\n",
    "retorna\n",
    "WN_Q: número de onda (no branch-Q) respectivo ao l\n",
    "'''\n",
    "def WN_Q(l, WN0):\n",
    "    return WN0"
   ]
  },
  {
   "cell_type": "code",
   "execution_count": null,
   "id": "b5951137-cdfd-4c45-9cda-f60ca2e714cf",
   "metadata": {},
   "outputs": [],
   "source": [
    "'''\n",
    "rotational_Raman(n_linhas_S, n_linhas_O, n_linhas_Q, T)\n",
    "\n",
    "parametros\n",
    "n_linhas_S: número de linhas desejadas do S-branch\n",
    "n_linhas_O: número de linhas desejadas do O-branch\n",
    "n_linhas_Q: número de linhas desejadas do Q-branch\n",
    "T: temperatura [K]\n",
    "\n",
    "retorna\n",
    "WN_S_branch: números de onda das linhas do S-branch [cm-1]\n",
    "I_S_branch: intensidades das linhas do S-branch\n",
    "WN_O_branch: números de onda das linhas do O-branch [cm-1]\n",
    "I_O_branch: intensidades das linhas do O-branch\n",
    "WN_Q_branch: números de onda das linhas do Q-branch [cm-1]\n",
    "I_Q_branch: intensidades das linhas do Q-branch\n",
    "'''\n",
    "def rotational_Raman(n_linhas_S, n_linhas_O, n_linhas_Q, T):\n",
    "    \n",
    "    #S-branch\n",
    "    WN_S_branch = np.zeros(n_linhas_S)\n",
    "    I_S_branch = np.zeros(n_linhas_S)\n",
    "    for i in range(n_linhas_S):\n",
    "        WN_S_branch[i] = WN_S(i,WN0)   \n",
    "        I_S_branch[i] = I(i+2,T)\n",
    "    \n",
    "    #O-branch\n",
    "    WN_O_branch = np.zeros(n_linhas_O)\n",
    "    I_O_branch = np.zeros(n_linhas_O)\n",
    "    for i in range(2,n_linhas_O+2):\n",
    "        WN_O_branch[i-2] = WN_O(i,WN0) \n",
    "        I_O_branch[i-2] = I(i,T)\n",
    "        \n",
    "    #Q-branch\n",
    "    WN_Q_branch = np.zeros(n_linhas_Q)\n",
    "    I_Q_branch = np.zeros(n_linhas_Q)\n",
    "    for i in range(n_linhas_O):\n",
    "        WN_Q_branch[i] = WN_Q(i,WN0) \n",
    "        I_Q_branch[i] = I(i,T)\n",
    "    \n",
    "    return WN_S_branch, I_S_branch, WN_O_branch, I_O_branch, WN_Q_branch, I_Q_branch\n",
    "\n",
    "'''\n",
    "plot_RR(WN_S_branch, I_S_branch, WN_O_branch, I_O_branch, WN_Q_branch, I_Q_branch)\n",
    "\n",
    "parametros\n",
    "WN_S_branch: números de onda das linhas do S-branch [cm-1]\n",
    "I_S_branch: intensidades das linhas do S-branch\n",
    "WN_O_branch: números de onda das linhas do O-branch [cm-1]\n",
    "I_O_branch: intensidades das linhas do O-branch\n",
    "WN_Q_branch: números de onda das linhas do Q-branch [cm-1]\n",
    "I_Q_branch: intensidades das linhas do Q-branch\n",
    "\n",
    "retorna\n",
    "plot do espectro Raman rotacional\n",
    "'''\n",
    "def plot_RR(WN_S_branch, I_S_branch, WN_O_branch, I_O_branch, WN_Q_branch, I_Q_branch):\n",
    "    \n",
    "    #plotting S-branch\n",
    "    for i in range(len(WN_S_branch)):\n",
    "        plt.vlines(WN_S_branch[i], 0, I_S_branch[i],color='b')\n",
    "    \n",
    "    #plotting O-branch\n",
    "    for i in range(len(WN_O_branch)):       \n",
    "        plt.vlines(WN_O_branch[i], 0, I_O_branch[i],color='g')\n",
    "        \n",
    "    #plotting Q-branch\n",
    "    for i in range(len(WN_Q_branch)):       \n",
    "        plt.vlines(WN_Q_branch[i], 0, I_Q_branch[i],color='r')    \n",
    "    \n",
    "    #plotting WN0 position\n",
    "    plt.vlines(WN0, 0, np.max(I_Q_branch)*1.3,linestyle=':', color='k')\n",
    "    \n",
    "    plt.title('espectro Raman rotacional ('+str(molecule)+', T='+str(T)+'K)')\n",
    "    plt.ylabel('intensidade')\n",
    "    plt.xlabel('número de onda [cm-1]')\n",
    "    plt.ylim(0,np.max(I_Q_branch)*1.3)\n",
    "    plt.xlim(WN_O_branch[-1]-B,WN_S_branch[-1]+B)\n",
    "    plt.grid()\n",
    "    \n",
    "    return"
   ]
  },
  {
   "cell_type": "markdown",
   "id": "17d4420f-0ccb-4f13-bc67-1edb005e4ed7",
   "metadata": {},
   "source": [
    "a) molécula H2, T=300K"
   ]
  },
  {
   "cell_type": "code",
   "execution_count": null,
   "id": "aa6d670c-224f-4400-a079-af3791021bb2",
   "metadata": {},
   "outputs": [],
   "source": [
    "molecule='H2'\n",
    "B = 60.04 #constante rotacional [cm-1]\n",
    "D = 0.05038 #[cm-1]\n",
    "WN0 = 4145.2  #número de onda da linha central [cm-1] (visível p/ moléculas lineares)\n",
    "\n",
    "T=300 #temperatura\n",
    "plot_RR(*rotational_Raman(10, 10, 10, T))\n",
    "pd.DataFrame(np.array(rotational_Raman(10, 10, 10, T)).T, columns=['nº de onda (S-branch) [cm$^{-1}$]',\n",
    "                                                                     'Intensidade (S-branch)',\n",
    "                                                                     'nº de onda (O-branch) [cm$^{-1}$]',\n",
    "                                                                     'Intensidade (O-branch)',\n",
    "                                                                     'nº de onda (Q-branch) [cm$^{-1}$]',\n",
    "                                                                     'Intensidade (Q-branch)'])"
   ]
  },
  {
   "cell_type": "markdown",
   "id": "cb67c25c-30b9-40a7-a5eb-23e1cb7bfa7d",
   "metadata": {},
   "source": [
    "distância entre as linhas do S-branch sempre igual a 4B"
   ]
  },
  {
   "cell_type": "code",
   "execution_count": null,
   "id": "1bb611df-495e-439a-9db9-9c0230985246",
   "metadata": {},
   "outputs": [],
   "source": [
    "np.abs(rotational_Raman(10, 10, 10, T)[0][1:]-rotational_Raman(10, 10, 10, T)[0][:-1])/B"
   ]
  },
  {
   "cell_type": "markdown",
   "id": "d1660795-072e-42a3-930e-43625674fb9c",
   "metadata": {},
   "source": [
    "distância entre as linhas do O-branch sempre igual a 4B"
   ]
  },
  {
   "cell_type": "code",
   "execution_count": null,
   "id": "7fe151dd-7a75-4475-b183-bd38e61e38c1",
   "metadata": {},
   "outputs": [],
   "source": [
    "np.abs(rotational_Raman(10, 10, 10, T)[2][1:]-rotational_Raman(10, 10, 10, T)[2][:-1])/B"
   ]
  },
  {
   "cell_type": "markdown",
   "id": "62b0235a-9626-41b6-9e25-04f026f6848b",
   "metadata": {},
   "source": [
    "distância entre a primeira linha do S-branch e a primeira linha do O-branch igual a 12B"
   ]
  },
  {
   "cell_type": "code",
   "execution_count": null,
   "id": "f2103e9a-715a-47c3-91e6-4757394e4bb3",
   "metadata": {},
   "outputs": [],
   "source": [
    "(rotational_Raman(10, 10, 10, T)[0][0]-rotational_Raman(10, 10, 10, T)[2][0])/B"
   ]
  },
  {
   "cell_type": "markdown",
   "id": "e48302ee-e4ec-43b3-8f38-21224030300e",
   "metadata": {},
   "source": [
    "b) molécula HD (hidrogênio-deutério), T=300K"
   ]
  },
  {
   "cell_type": "code",
   "execution_count": null,
   "id": "8a2c291f-4f2f-4770-874f-5ec50c651c55",
   "metadata": {},
   "outputs": [],
   "source": [
    "molecule='HD'\n",
    "B = 45.69 #constante rotacional [cm-1]\n",
    "D = 0.03097 #[cm-1]\n",
    "WN0 = 3590.5 #número de onda da linha central [cm-1] (visível p/ moléculas lineares)\n",
    "\n",
    "T=300 #temperatura\n",
    "plot_RR(*rotational_Raman(10, 10, 10, T))\n",
    "pd.DataFrame(np.array(rotational_Raman(10, 10, 10, T)).T, columns=['nº de onda (S-branch) [cm$^{-1}$]',\n",
    "                                                                     'Intensidade (S-branch)',\n",
    "                                                                     'nº de onda (O-branch) [cm$^{-1}$]',\n",
    "                                                                     'Intensidade (O-branch)',\n",
    "                                                                     'nº de onda (Q-branch) [cm$^{-1}$]',\n",
    "                                                                     'Intensidade (Q-branch)'])"
   ]
  },
  {
   "cell_type": "markdown",
   "id": "26bba17b-bc68-4dc1-aa84-1daa6340a21b",
   "metadata": {},
   "source": [
    "### Questão 4"
   ]
  },
  {
   "cell_type": "markdown",
   "id": "3dc8bd70-8bda-4719-981d-3a9391c5c41d",
   "metadata": {},
   "source": [
    "campo forte (low-spin)"
   ]
  },
  {
   "cell_type": "code",
   "execution_count": null,
   "id": "d0645a66-4c28-4c61-97cd-d571a89b6852",
   "metadata": {},
   "outputs": [],
   "source": [
    "n = np.array([1, 2, 3, 4, 5, 6, 7, 8, 9])\n",
    "octa = np.array([-2/5, -4/5, -6/5, -8/5, -2, -12/5, -9/5, -6/5, -3/5])\n",
    "tetra = np.array([-4/15, -8/15, -4/5, -16/15, -40/45, -32/45, -8/15, -16/45, -8/45])\n",
    "delta = np.array([-2/15, -4/15, -2/5, -8/15, -10/9, -76/45, -19/15, -38/45, -19/45])\n",
    "\n",
    "plt.plot(n, octa, '.b', label='(E$_{f,o}-E$)/$\\Delta_o$')\n",
    "plt.plot(n, octa, 'b')\n",
    "plt.plot(n, tetra, '.r', label='(E$_{f,t}-E$)/$\\Delta_o$')\n",
    "plt.plot(n, tetra, 'r')\n",
    "plt.plot(n, delta, '.g', label='$\\Delta$E/$\\Delta_o$')\n",
    "plt.plot(n, delta, 'g')\n",
    "plt.ylim(np.min(octa)*1.2,0)\n",
    "plt.xlim(n[0],n[-1])\n",
    "plt.xlabel('n')\n",
    "plt.title('low-spin')\n",
    "plt.legend()"
   ]
  },
  {
   "cell_type": "markdown",
   "id": "1a4c593d-b3a5-41b8-b439-61cf5479afc4",
   "metadata": {},
   "source": [
    "[extra] campo fraco (high-spin)"
   ]
  },
  {
   "cell_type": "code",
   "execution_count": null,
   "id": "c33111a9-7f83-4c0c-8522-c6599f560267",
   "metadata": {},
   "outputs": [],
   "source": [
    "n = np.array([1, 2, 3, 4, 5, 6, 7, 8, 9])\n",
    "octa = np.array([-2/5, -4/5, -6/5, -3/5, 0, -2/5, -4/5, -6/5, -3/5])\n",
    "tetra = np.array([-4/15, -8/15, -16/45, -8/45, 0, -4/15, -8/15, -16/45, -8/45])\n",
    "delta = np.array([-2/15, -4/15, -38/45, -19/45, 0, -2/15, -4/15, -38/45, -19/45])\n",
    "\n",
    "plt.plot(n, octa, '.b', label='(E$_{f,o}-E$)/$\\Delta_o$')\n",
    "plt.plot(n, octa, 'b')\n",
    "plt.plot(n, tetra, '.r', label='(E$_{f,t}-E$)/$\\Delta_o$')\n",
    "plt.plot(n, tetra, 'r')\n",
    "plt.plot(n, delta, '.g', label='$\\Delta$E/$\\Delta_o$')\n",
    "plt.plot(n, delta, 'g')\n",
    "plt.ylim(np.min(octa)*1.6,0)\n",
    "plt.xlim(n[0],n[-1])\n",
    "plt.xlabel('n')\n",
    "plt.title('high-spin')\n",
    "plt.legend()"
   ]
  },
  {
   "cell_type": "code",
   "execution_count": null,
   "id": "6244632d-b55d-4ce2-a90c-d1d7dd2dee16",
   "metadata": {},
   "outputs": [],
   "source": []
  }
 ],
 "metadata": {
  "kernelspec": {
   "display_name": "Python 3 (ipykernel)",
   "language": "python",
   "name": "python3"
  },
  "language_info": {
   "codemirror_mode": {
    "name": "ipython",
    "version": 3
   },
   "file_extension": ".py",
   "mimetype": "text/x-python",
   "name": "python",
   "nbconvert_exporter": "python",
   "pygments_lexer": "ipython3",
   "version": "3.9.7"
  }
 },
 "nbformat": 4,
 "nbformat_minor": 5
}
